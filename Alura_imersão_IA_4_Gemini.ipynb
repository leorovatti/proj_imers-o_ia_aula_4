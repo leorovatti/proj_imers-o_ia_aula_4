{
  "nbformat": 4,
  "nbformat_minor": 0,
  "metadata": {
    "colab": {
      "provenance": [],
      "authorship_tag": "ABX9TyP+rgZCU7gOBgeW/NOyz/A2",
      "include_colab_link": true
    },
    "kernelspec": {
      "name": "python3",
      "display_name": "Python 3"
    },
    "language_info": {
      "name": "python"
    }
  },
  "cells": [
    {
      "cell_type": "markdown",
      "metadata": {
        "id": "view-in-github",
        "colab_type": "text"
      },
      "source": [
        "<a href=\"https://colab.research.google.com/github/leorovatti/proj_imers-o_ia_aula_4/blob/main/Alura_imers%C3%A3o_IA_4_Gemini.ipynb\" target=\"_parent\"><img src=\"https://colab.research.google.com/assets/colab-badge.svg\" alt=\"Open In Colab\"/></a>"
      ]
    },
    {
      "cell_type": "code",
      "execution_count": 1,
      "metadata": {
        "id": "-t66bYwAzcST"
      },
      "outputs": [],
      "source": [
        "# Instalar biblioteca Google IA\n",
        "!pip install -q -U google-generativeai"
      ]
    },
    {
      "cell_type": "code",
      "source": [
        "# importar IA e Renomear\n",
        "import google.generativeai as genai\n",
        "\n",
        "# Setar credenciais e chave API\n",
        "GOOGLE_API_KEY='chave_api'\n",
        "genai.configure(api_key=GOOGLE_API_KEY)"
      ],
      "metadata": {
        "id": "Q7UgVFzG4iLf"
      },
      "execution_count": 2,
      "outputs": []
    },
    {
      "cell_type": "code",
      "source": [
        "# Listar os modelos disponiveis\n",
        "# for repetição\n",
        "for m in genai.list_models():\n",
        "  if 'generateContent' in m.supported_generation_methods:\n",
        "    print(m.name)"
      ],
      "metadata": {
        "colab": {
          "base_uri": "https://localhost:8080/",
          "height": 139
        },
        "id": "cSxEffft4uwb",
        "outputId": "fc167657-995c-481a-91d2-251c47efcd86"
      },
      "execution_count": 3,
      "outputs": [
        {
          "output_type": "stream",
          "name": "stdout",
          "text": [
            "models/gemini-1.0-pro\n",
            "models/gemini-1.0-pro-001\n",
            "models/gemini-1.0-pro-latest\n",
            "models/gemini-1.0-pro-vision-latest\n",
            "models/gemini-1.5-pro-latest\n",
            "models/gemini-pro\n",
            "models/gemini-pro-vision\n"
          ]
        }
      ]
    },
    {
      "cell_type": "code",
      "source": [
        "# configurações do modelo\n",
        "generation_config = {\n",
        "    \"candidate_count\": 1,\n",
        "    \"temperature\": 0.5,\n",
        "}"
      ],
      "metadata": {
        "id": "P_tHhiAg60wx"
      },
      "execution_count": 6,
      "outputs": []
    },
    {
      "cell_type": "code",
      "source": [
        "# configurações de segurança do conteudo\n",
        "safety_settings = {\n",
        "    \"HARASSMENT\": \"BLOCK_NONE\",\n",
        "    'HATE': \"BLOCK_NONE\",\n",
        "    \"SEXUAL\": \"BLOCK_NONE\",\n",
        "    \"DANGEROUS\": \"BLOCK_NONE\",\n",
        "}"
      ],
      "metadata": {
        "id": "4mj24xcH7d9Y"
      },
      "execution_count": 7,
      "outputs": []
    },
    {
      "cell_type": "code",
      "source": [
        "# inicializando o modelo\n",
        "model = genai.GenerativeModel(model_name=\"gemini-1.0-pro\",\n",
        "                              generation_config=generation_config,\n",
        "                              safety_settings=safety_settings)"
      ],
      "metadata": {
        "id": "6JlT_Y5w8zOD"
      },
      "execution_count": 8,
      "outputs": []
    },
    {
      "cell_type": "code",
      "source": [
        "response = model.generate_content(\"Vamos aprender conteudo sobre IA. Me dê sugestões.\")\n",
        "print(response.text)"
      ],
      "metadata": {
        "colab": {
          "base_uri": "https://localhost:8080/",
          "height": 141
        },
        "id": "58U8YNyF9lpE",
        "outputId": "169d8f0b-2077-4e5d-f509-2f5df3668159"
      },
      "execution_count": 10,
      "outputs": [
        {
          "output_type": "stream",
          "name": "stdout",
          "text": [
            "response:\n",
            "GenerateContentResponse(\n",
            "    done=True,\n",
            "    iterator=None,\n",
            "    result=glm.GenerateContentResponse({'candidates': [{'content': {'parts': [{'text': '**Introdução à IA**\\n\\n* Compreendendo os conceitos fundamentais da IA\\n* Tipos de IA: aprendizado de máquina, aprendizado profundo, processamento de linguagem natural\\n* Aplicações da IA em vários setores\\n\\n**Aprendizado de Máquina**\\n\\n* Algoritmos de aprendizado de máquina: supervisionado, não supervisionado, por reforço\\n* Pré-processamento e preparação de dados\\n* Modelagem e avaliação de modelos de aprendizado de máquina\\n\\n**Aprendizado Profundo**\\n\\n* Redes neurais: arquitetura, tipos e treinamento\\n* Convoluções e pooling\\n* Aplicações do aprendizado profundo em visão computacional, reconhecimento de fala e processamento de linguagem natural\\n\\n**Processamento de Linguagem Natural**\\n\\n* Compreensão, geração e tradução de linguagem natural\\n* Modelagem de linguagem: modelos de Markov ocultos, redes neurais recorrentes\\n* Análise de sentimento e processamento de texto\\n\\n**Aplicações da IA**\\n\\n* Automação de tarefas: reconhecimento de imagem, processamento de linguagem natural\\n* Tomada de decisão aprimorada: previsão, otimização\\n* Personalização: recomendações, publicidade direcionada\\n* Cuidados de saúde: diagnóstico, tratamento e pesquisa\\n* Finanças: análise de mercado, gerenciamento de risco\\n\\n**Ética e Implicações da IA**\\n\\n* Viés e discriminação em algoritmos de IA\\n* Privacidade e segurança de dados\\n* Impacto da IA no emprego e na sociedade\\n* Regulamentações e diretrizes éticas para o desenvolvimento e uso da IA\\n\\n**Recursos Adicionais**\\n\\n* Livros: \"Inteligência Artificial: Um Guia Moderno\" (Stuart Russell e Peter Norvig)\\n* Cursos online: Coursera, edX, Udemy\\n* Comunidades online: Reddit, Stack Overflow, GitHub\\n* Revistas e artigos: Nature, Science, MIT Technology Review'}], 'role': 'model'}, 'finish_reason': 1, 'index': 0, 'safety_ratings': [{'category': 9, 'probability': 1, 'blocked': False}, {'category': 8, 'probability': 1, 'blocked': False}, {'category': 7, 'probability': 1, 'blocked': False}, {'category': 10, 'probability': 1, 'blocked': False}], 'token_count': 0, 'grounding_attributions': []}]}),\n",
            ")\n"
          ]
        }
      ]
    },
    {
      "cell_type": "code",
      "source": [
        "chat = model.start_chat(history=[])"
      ],
      "metadata": {
        "id": "9Fl0qvex-FN0"
      },
      "execution_count": 11,
      "outputs": []
    },
    {
      "cell_type": "code",
      "source": [
        "prompt = input(\"Esperando prompt:\")\n",
        "\n",
        "while prompt != \"fim\":\n",
        "  response = chat.send_message(prompt)\n",
        "  print(\"Resposta: \", response.text, \"\\n\")\n",
        "  prompt = input(\"Esperando prompt:\")"
      ],
      "metadata": {
        "id": "weWZKH-L-bNF"
      },
      "execution_count": null,
      "outputs": []
    },
    {
      "cell_type": "code",
      "source": [
        "#Melhorando a visualização\n",
        "#Código disponível em https://ai.google.dev/tutorials/python_quickstart#import_packages\n",
        "import textwrap\n",
        "from IPython.display import display\n",
        "from IPython.display import Markdown\n",
        "\n",
        "def to_markdown(text):\n",
        "  text = text.replace('•', '  *')\n",
        "  return Markdown(textwrap.indent(text, '> ', predicate=lambda _: True))\n",
        "\n",
        "#Imprimindo o histórico\n",
        "for message in chat.history:\n",
        "  display(to_markdown(f'**{message.role}**: {message.parts[0].text}'))\n",
        "  print('-------------------------------------------')"
      ],
      "metadata": {
        "id": "MMXWrMSHAfw6"
      },
      "execution_count": null,
      "outputs": []
    }
  ]
}